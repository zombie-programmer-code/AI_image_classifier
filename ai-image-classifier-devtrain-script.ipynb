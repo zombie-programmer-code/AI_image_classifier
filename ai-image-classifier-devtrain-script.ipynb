{
 "cells": [
  {
   "cell_type": "markdown",
   "id": "64406bd1",
   "metadata": {
    "_cell_guid": "b1076dfc-b9ad-4769-8c92-a6c4dae69d19",
    "_uuid": "8f2839f25d086af736a60e9eeb907d3b93b6e0e5",
    "execution": {
     "iopub.execute_input": "2023-07-17T02:54:14.546924Z",
     "iopub.status.busy": "2023-07-17T02:54:14.545642Z",
     "iopub.status.idle": "2023-07-17T02:54:14.556209Z",
     "shell.execute_reply": "2023-07-17T02:54:14.554391Z",
     "shell.execute_reply.started": "2023-07-17T02:54:14.546868Z"
    },
    "papermill": {
     "duration": 0.003182,
     "end_time": "2023-07-17T03:07:29.603650",
     "exception": false,
     "start_time": "2023-07-17T03:07:29.600468",
     "status": "completed"
    },
    "tags": []
   },
   "source": [
    "# This Python 3 environment comes with many helpful analytics libraries installed\n",
    "# It is defined by the kaggle/python Docker image: https://github.com/kaggle/docker-python\n",
    "# For example, here's several helpful packages to load\n",
    "\n",
    "import numpy as np # linear algebra\n",
    "import pandas as pd # data processing, CSV file I/O (e.g. pd.read_csv)\n",
    "\n",
    "# Input data files are available in the read-only \"../input/\" directory\n",
    "# For example, running this (by clicking run or pressing Shift+Enter) will list all files under the input directory\n",
    "\n",
    "import os\n",
    "for dirname, _, filenames in os.walk('/kaggle/input'):\n",
    "    for filename in filenames:\n",
    "        print(os.path.join(dirname, filename))\n",
    "\n",
    "# You can write up to 20GB to the current directory (/kaggle/working/) that gets preserved as output when you create a version using \"Save & Run All\" \n",
    "# You can also write temporary files to /kaggle/temp/, but they won't be saved outside of the current session"
   ]
  },
  {
   "cell_type": "code",
   "execution_count": 1,
   "id": "bf19c90c",
   "metadata": {
    "execution": {
     "iopub.execute_input": "2023-07-17T03:07:29.611510Z",
     "iopub.status.busy": "2023-07-17T03:07:29.610579Z",
     "iopub.status.idle": "2023-07-17T03:08:16.421612Z",
     "shell.execute_reply": "2023-07-17T03:08:16.420532Z"
    },
    "papermill": {
     "duration": 46.818969,
     "end_time": "2023-07-17T03:08:16.425398",
     "exception": false,
     "start_time": "2023-07-17T03:07:29.606429",
     "status": "completed"
    },
    "tags": []
   },
   "outputs": [
    {
     "name": "stdout",
     "output_type": "stream",
     "text": [
      "100000\n"
     ]
    }
   ],
   "source": [
    "import numpy as np\n",
    "import os\n",
    "c = 0\n",
    "for dirname, _, filenames in os.walk('/kaggle/input/cifake-real-and-ai-generated-synthetic-images/train'):\n",
    "    for filename in filenames:\n",
    "        c+=1\n",
    "print(c)"
   ]
  },
  {
   "cell_type": "code",
   "execution_count": 2,
   "id": "65c659ba",
   "metadata": {
    "execution": {
     "iopub.execute_input": "2023-07-17T03:08:16.432007Z",
     "iopub.status.busy": "2023-07-17T03:08:16.431640Z",
     "iopub.status.idle": "2023-07-17T03:08:16.440405Z",
     "shell.execute_reply": "2023-07-17T03:08:16.439417Z"
    },
    "papermill": {
     "duration": 0.014839,
     "end_time": "2023-07-17T03:08:16.442863",
     "exception": false,
     "start_time": "2023-07-17T03:08:16.428024",
     "status": "completed"
    },
    "tags": []
   },
   "outputs": [],
   "source": [
    "def split(ratio=0.3,num=100000):\n",
    "    d = np.random.randint(num , size = num)\n",
    "    dev = (int)(num*ratio)\n",
    "    train = num-dev\n",
    "    var = np.random.rand(1,1)\n",
    "    data_f = []\n",
    "    data_r = []\n",
    "    data_shuffle = []\n",
    "    l = 0\n",
    "    for dirname, _, filenames in os.walk('/kaggle/input/cifake-real-and-ai-generated-synthetic-images/train/FAKE'):\n",
    "        for filename in filenames:\n",
    "            data_f.append(filename)\n",
    "    for dirname, _, filenames in os.walk('/kaggle/input/cifake-real-and-ai-generated-synthetic-images/train/REAL'):\n",
    "        for filename in filenames:\n",
    "            data_r.append(filename)\n",
    "    data = data_f+data_r\n",
    "    for index in d:\n",
    "        data_shuffle.append(data[index])\n",
    "    dev_fn = data_shuffle[:dev]\n",
    "    train_fn = data_shuffle[dev:]\n",
    "    return dev_fn,train_fn\n",
    "    "
   ]
  },
  {
   "cell_type": "code",
   "execution_count": 3,
   "id": "38edc4db",
   "metadata": {
    "execution": {
     "iopub.execute_input": "2023-07-17T03:08:16.449534Z",
     "iopub.status.busy": "2023-07-17T03:08:16.449190Z",
     "iopub.status.idle": "2023-07-17T03:08:38.048627Z",
     "shell.execute_reply": "2023-07-17T03:08:38.047753Z"
    },
    "papermill": {
     "duration": 21.605999,
     "end_time": "2023-07-17T03:08:38.051636",
     "exception": false,
     "start_time": "2023-07-17T03:08:16.445637",
     "status": "completed"
    },
    "tags": []
   },
   "outputs": [],
   "source": [
    "dev, train = split(ratio=0.2)"
   ]
  },
  {
   "cell_type": "code",
   "execution_count": null,
   "id": "aeb61b59",
   "metadata": {
    "papermill": {
     "duration": 0.002252,
     "end_time": "2023-07-17T03:08:38.056814",
     "exception": false,
     "start_time": "2023-07-17T03:08:38.054562",
     "status": "completed"
    },
    "tags": []
   },
   "outputs": [],
   "source": []
  }
 ],
 "metadata": {
  "kernelspec": {
   "display_name": "Python 3",
   "language": "python",
   "name": "python3"
  },
  "language_info": {
   "codemirror_mode": {
    "name": "ipython",
    "version": 3
   },
   "file_extension": ".py",
   "mimetype": "text/x-python",
   "name": "python",
   "nbconvert_exporter": "python",
   "pygments_lexer": "ipython3",
   "version": "3.10.12"
  },
  "papermill": {
   "default_parameters": {},
   "duration": 79.889072,
   "end_time": "2023-07-17T03:08:38.881268",
   "environment_variables": {},
   "exception": null,
   "input_path": "__notebook__.ipynb",
   "output_path": "__notebook__.ipynb",
   "parameters": {},
   "start_time": "2023-07-17T03:07:18.992196",
   "version": "2.4.0"
  }
 },
 "nbformat": 4,
 "nbformat_minor": 5
}
